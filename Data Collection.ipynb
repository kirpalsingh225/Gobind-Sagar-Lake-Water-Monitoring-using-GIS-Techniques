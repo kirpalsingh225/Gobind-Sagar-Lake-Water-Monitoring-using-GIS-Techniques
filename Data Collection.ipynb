{
 "cells": [
  {
   "cell_type": "markdown",
   "id": "92f1e031",
   "metadata": {},
   "source": [
    "**Data Collection**"
   ]
  },
  {
   "attachments": {},
   "cell_type": "markdown",
   "id": "ba8b48df",
   "metadata": {},
   "source": [
    "**Owner:- Kirpal Singh**\n",
    "**Contributer:- Arbazkhan Pathan**\n",
    "\n",
    "\n",
    "**We are collecting the data from the Google Earth Engine using their API and we are collecting the following water parameters :-**\n",
    "\n",
    "**• Dissolved Oxygen :-** Dissolved oxygen (DO) is a critical parameter in water quality assessment. DO is the amount of oxygen gas that is dissolved in water, and it is essential for aquatic life, particularly for fish and other organisms that require oxygen to respire. When the DO levels in water are low, it can lead to a decline in aquatic life as fish and other aquatic organisms struggle to breathe. Low DO levels in water can also indicate the presence of pollutants and other contaminants that can harm aquatic life and the environment.\n",
    "\n",
    "**• Salinity :-** Salinity is the measure of the total amount of dissolved salts in water, and it can have significant effects on water quality.High levels of salinity can negatively impact aquatic ecosystems, including plants, animals, and microorganisms that live in the water.\n",
    "\n",
    "**• Temperature :-** Temperature can have significant effects on the quality of water. Temperature changes can alter the physical and chemical properties of water, affecting the health of aquatic ecosystems and the safety of drinking water.\n",
    "\n",
    "**• pH :-** pH is a critical parameter that can affect the quality of water. It is a measure of the acidity or basicity of water and can affect the behavior of aquatic organisms and the solubility of chemicals in water.Changes in pH can cause stress or even death in aquatic organisms. Fish and other aquatic organisms have specific pH requirements, and any significant deviation from this range can cause harm to their health and survival.\n",
    "\n",
    "**• Turbidity :-** Turbidity is a measure of the clarity of water and refers to the presence of suspended particles in water, such as sediment, organic matter, and microorganisms.High turbidity can reduce light penetration in water, which can limit the growth of aquatic plants and affect photosynthesis in aquatic organisms.\n",
    "\n",
    "**• Dissolved Organic Matter :-** Dissolved organic matter (DOM) refers to organic compounds that are dissolved in water, including compounds from decaying plants and animals, as well as natural organic matter. DOM can react with disinfectants used in water treatment, such as chlorine, to form disinfection byproducts (DBPs), which can have potential health impacts.\n",
    "\n",
    "**• Suspended Matter :-** Suspended matter in water refers to the presence of solid particles, such as sand, silt, and organic matter, that are suspended in water. Suspended matter can reduce water clarity, making it appear cloudy or murky, which can affect the aesthetic quality of water and reduce its suitability for recreational activities.\n",
    "\n",
    "**• Nitrate :-** Nitrate is a naturally occurring compound in water that is essential for plant growth, but high levels of nitrate in water can affect water quality and have potential health impacts. Nitrate is a nutrient that can contribute to the growth of algae and aquatic plants in surface waters. High levels of nitrate can lead to eutrophication, a process that results in excessive plant growth, reduced oxygen levels, and potential harm to aquatic organisms.\n",
    "\n",
    "**• Phosphate :-** Phosphates are essential nutrients that are necessary for the growth and development of aquatic plants and organisms. However, high levels of phosphates in water can affect water quality and have potential health impacts. Phosphates can leach into groundwater from agricultural and industrial activities, septic systems, and other sources. High levels of phosphates in groundwater can contaminate drinking water wells, leading to potential health risks.\n",
    "\n",
    "**• Chlorophyll :-** Chlorophyll is a pigment that is essential for photosynthesis in aquatic plants and algae. The presence of chlorophyll in water can be an indicator of the level of primary productivity in an aquatic ecosystem.  High levels of chlorophyll in water can indicate high levels of primary productivity, which can lead to eutrophication, a process that results in excessive plant growth, reduced oxygen levels, and potential harm to aquatic organisms.\n"
   ]
  },
  {
   "cell_type": "code",
   "execution_count": 3,
   "id": "075b6eb1",
   "metadata": {},
   "outputs": [],
   "source": [
    "import ipywidgets as widgets\n",
    "import pandas as pd\n",
    "import numpy as np\n",
    "from sklearn.preprocessing import MinMaxScaler\n",
    "import geemap\n",
    "import ee"
   ]
  },
  {
   "cell_type": "code",
   "execution_count": 4,
   "id": "b2e8ca86",
   "metadata": {},
   "outputs": [
    {
     "data": {
      "text/html": [
       "<p>To authorize access needed by Earth Engine, open the following\n",
       "        URL in a web browser and follow the instructions:</p>\n",
       "        <p><a href=https://code.earthengine.google.com/client-auth?scopes=https%3A//www.googleapis.com/auth/earthengine%20https%3A//www.googleapis.com/auth/devstorage.full_control&request_id=5Yo50o6iJ4Uz4Y6gdCrCIQ4VFI3oLB1mlBPPCQVC1GQ&tc=gEiVsu7XnXJxtr12Z_awq8USisQjnGmTX8ZVNKGjgl4&cc=t_keNlPE5nn2DmN-udckclpxWGwmOksG7SEUzLavVu8>https://code.earthengine.google.com/client-auth?scopes=https%3A//www.googleapis.com/auth/earthengine%20https%3A//www.googleapis.com/auth/devstorage.full_control&request_id=5Yo50o6iJ4Uz4Y6gdCrCIQ4VFI3oLB1mlBPPCQVC1GQ&tc=gEiVsu7XnXJxtr12Z_awq8USisQjnGmTX8ZVNKGjgl4&cc=t_keNlPE5nn2DmN-udckclpxWGwmOksG7SEUzLavVu8</a></p>\n",
       "        <p>The authorization workflow will generate a code, which you should paste in the box below.</p>\n",
       "        "
      ],
      "text/plain": [
       "<IPython.core.display.HTML object>"
      ]
     },
     "metadata": {},
     "output_type": "display_data"
    },
    {
     "name": "stdout",
     "output_type": "stream",
     "text": [
      "Enter verification code: 4/1AVHEtk7cCl007KACBlWp8IlzhU41sj5H3kO3vsVFlWJGlnHCzrSc63vLLy4\n",
      "\n",
      "Successfully saved authorization token.\n"
     ]
    }
   ],
   "source": [
    "ee.Authenticate()\n",
    "ee.Initialize()"
   ]
  },
  {
   "cell_type": "code",
   "execution_count": 5,
   "id": "fcb45e1f",
   "metadata": {},
   "outputs": [],
   "source": [
    "Map = geemap.Map()\n",
    "geometry = ee.Geometry.Point([76.4968,31.4047])\n",
    "image = ee.ImageCollection(\"COPERNICUS/S2_SR\") \\\n",
    "    .filterBounds(geometry) \\\n",
    "    .filter(ee.Filter.lte('CLOUDY_PIXEL_PERCENTAGE', 20)) \\\n",
    "    .first()\n",
    "start_date, end_date = \"2010-01-01\", \"2020-01-01\"\n",
    "\n",
    "ndwi = image.normalizedDifference(['B3', 'B8'])\n",
    "\n",
    "ndwiMasked = ndwi.updateMask(ndwi.gte(0.4))\n",
    "ndwiMasked1 = ndwiMasked.toInt()\n",
    "\n",
    "vectors = ndwiMasked1.reduceToVectors(\n",
    "    scale=30.0, geometryType='polygon', eightConnected=False, maxPixels=10000000, bestEffort=True)\n"
   ]
  },
  {
   "cell_type": "code",
   "execution_count": 6,
   "id": "90f11684",
   "metadata": {},
   "outputs": [],
   "source": [
    "geometry = ee.Geometry.Point([76.4968,31.4047])\n",
    "Map.addLayer(geometry)\n",
    "sentinel = ee.ImageCollection(\"COPERNICUS/S2_SR\").filterBounds(vectors) \\\n",
    "    .filterDate(start_date, end_date) \\\n",
    "    .filter(ee.Filter.lt('CLOUDY_PIXEL_PERCENTAGE', 20)) \\\n",
    "    .median()\n",
    "\n",
    "visualization = {\n",
    "    'min': 0,\n",
    "    'max': 3000,\n",
    "    'bands': ['B4', 'B3', 'B2'],\n",
    "}\n",
    "Map.addLayer(sentinel, visualization, 'sent2rgb')\n",
    "\n",
    "mndwi = sentinel.normalizedDifference(['B3', 'B11']).rename('mndwi')\n",
    "mndwitr = mndwi.gt(0)\n",
    "ndsi = sentinel.normalizedDifference(['B11', 'B12']).rename('ndsi')\n",
    "ndsi2 = sentinel.normalizedDifference(\n",
    "    ['B11', 'B12']).rename('ndsi2').mask(mndwitr)\n",
    "Map.addLayer(ndsi2, {'min': 0.1, 'max': 0.4, 'palette': [\n",
    "             'cyan', 'orange', 'red']}, 'salinity')\n",
    "ndti = sentinel.normalizedDifference(['B4', 'B3']).rename('ndti')\n",
    "ndti2 = sentinel.normalizedDifference(\n",
    "    ['B4', 'B3']).rename('ndti2').mask(mndwitr)\n",
    "Map.addLayer(ndti2, {'min': -1, 'max': +1,\n",
    "             'palette': ['blue', 'pink', 'brown']}, 'turbidity')\n",
    "\n",
    "ndci = sentinel.normalizedDifference(['B5', 'B4']).rename('ndci')\n",
    "ndci2 = sentinel.normalizedDifference(\n",
    "    ['B5', 'B4']).rename('ndci2').mask(mndwitr)\n",
    "Map.addLayer(ndci2, {'min': -1, 'max': +1,\n",
    "             'palette': ['green', 'pink', 'brown']}, 'chlorophyll')\n",
    "\n",
    "nitrate = sentinel.expression('(B4 + B3) / (B4 - B3)', {\n",
    "    'B3': sentinel.select('B3'),\n",
    "    'B4': sentinel.select('B4')}).rename('nitrate')\n",
    "Map.addLayer(nitrate, {'min': -1, 'max': 1,'palette': ['blue', 'white', 'green']}, 'nitrate')\n",
    "\n",
    "phosphate = sentinel.expression('(B4 - B5) / (B4 + B5)', {\n",
    "    'B4': sentinel.select('B4'),\n",
    "    'B5': sentinel.select('B5')}).rename('phosphate')\n",
    "Map.addLayer(phosphate, {'min': -1, 'max': 1,'palette': ['brown', 'white', 'green']}, 'phosphate')\n",
    "\n",
    "\n",
    "ph = ee.Image(8.339).subtract(ee.Image(0.827).multiply(\n",
    "    sentinel.select('B1').divide(sentinel.select('B8')))).rename('ph')\n",
    "ph2 = ee.Image(8.339).subtract(ee.Image(0.827).multiply(sentinel.select(\n",
    "    'B1').divide(sentinel.select('B8')))).rename('ph2').mask(mndwitr)\n",
    "Map.addLayer(ph2, {'min': 0, 'max': 14, 'palette': [\n",
    "             'red', 'yellow', 'cyan']}, 'ph')\n",
    "\n",
    "dissolvedoxygen = ee.Image(-0.0167).multiply(sentinel.select('B8')).add(ee.Image(0.0067).multiply(sentinel.select(\n",
    "    'B9'))).add(ee.Image(0.0083).multiply(sentinel.select('B11'))).add(ee.Image(9.577)).rename('dissolvedoxygen')\n",
    "dissolvedoxygen2 = ee.Image(-0.0167).multiply(sentinel.select('B8')).add(ee.Image(0.0067).multiply(sentinel.select('B9'))).add(\n",
    "    ee.Image(0.0083).multiply(sentinel.select('B11'))).add(ee.Image(9.577)).rename('dissolvedoxygen2').mask(mndwitr)\n",
    "Map.addLayer(dissolvedoxygen2, {'min': 6.5, 'max': 8, 'palette': [\n",
    "             'red', 'green', 'blue']}, 'do')\n",
    "\n"
   ]
  },
  {
   "cell_type": "code",
   "execution_count": 7,
   "id": "de0aec80",
   "metadata": {},
   "outputs": [],
   "source": [
    "col = ee.ImageCollection('LANDSAT/LC08/C02/T1_L2') \\\n",
    "    .filterDate(start_date, end_date) \\\n",
    "    .filterBounds(vectors).median()\n",
    "\n",
    "temp = col.select(\n",
    "    'ST_B.*').multiply(0.00341802).add(149.0).subtract(273.15).rename('temp')\n"
   ]
  },
  {
   "cell_type": "code",
   "execution_count": 8,
   "id": "09355f1e",
   "metadata": {},
   "outputs": [],
   "source": [
    "starting = '2021-01-01'\n",
    "ending = '2021-08-31'\n",
    "\n",
    "data = ee.ImageCollection(\n",
    "    'COPERNICUS/S3/OLCI').filterDate(starting, ending).filterBounds(vectors)\n",
    "\n",
    "rgb = data.select(['Oa08_radiance', 'Oa06_radiance', 'Oa04_radiance'])\\\n",
    "    .median().multiply(ee.Image([0.00876539, 0.0123538, 0.0115198])).clip(vectors)\n"
   ]
  },
  {
   "cell_type": "code",
   "execution_count": 9,
   "id": "3e729101",
   "metadata": {},
   "outputs": [],
   "source": [
    "dm_2021_Jan_August_test = rgb.select('Oa08_radiance').divide(\n",
    "    rgb.select('Oa04_radiance')).rename('dom')\n",
    "dom2 = rgb.select('Oa08_radiance').divide(\n",
    "    rgb.select('Oa04_radiance')).mask(mndwitr)\n",
    "Map.addLayer(dom2, {'min': 0, 'max': 0.8, 'palette': [\n",
    "             'green', 'red', 'yellow']}, 'Dissolved organic matter')\n",
    "suspended_matter_2021_Jan_August_test = rgb.select('Oa08_radiance').divide(\n",
    "    rgb.select('Oa06_radiance')).rename('suspended_matter')\n",
    "suspended_matter2 = rgb.select('Oa08_radiance').divide(\n",
    "    rgb.select('Oa06_radiance')).mask(mndwitr)\n",
    "Map.addLayer(suspended_matter2, {'min': 0, 'max': 0.8, 'palette': [\n",
    "    'green', 'red', 'yellow']}, 'suspended_matter')\n"
   ]
  },
  {
   "cell_type": "code",
   "execution_count": 10,
   "id": "d25f486b",
   "metadata": {},
   "outputs": [],
   "source": [
    "latlon = ee.Image.pixelLonLat().addBands(dm_2021_Jan_August_test)\n",
    "\n",
    "latlon = latlon.reduceRegion(\n",
    "    reducer=ee.Reducer.toList(),\n",
    "    geometry=vectors,\n",
    "    scale=100,\n",
    "    tileScale=16)\n",
    "data_dom_2021_Jan_August_test = np.array((ee.Array(latlon.get(\"dom\")).getInfo()))\n",
    "\n"
   ]
  },
  {
   "cell_type": "code",
   "execution_count": 11,
   "id": "f2b36731",
   "metadata": {},
   "outputs": [],
   "source": [
    "latlon = ee.Image.pixelLonLat().addBands(suspended_matter_2021_Jan_August_test)\n",
    "latlon = latlon.reduceRegion(\n",
    "    reducer=ee.Reducer.toList(),\n",
    "    geometry=vectors,\n",
    "    scale=100,\n",
    "    tileScale=16)\n",
    "\n",
    "data_sm_2021_Jan_August_test = np.array(\n",
    "    (ee.Array(latlon.get(\"suspended_matter\")).getInfo()))\n"
   ]
  },
  {
   "cell_type": "code",
   "execution_count": 12,
   "id": "84351c4d",
   "metadata": {},
   "outputs": [],
   "source": [
    "latlon = ee.Image.pixelLonLat().addBands(temp)\n",
    "\n",
    "latlon = latlon.reduceRegion(\n",
    "    reducer=ee.Reducer.toList(),\n",
    "    geometry=vectors,\n",
    "    scale=100)\n",
    "\n",
    "data_lst = np.array((ee.Array(latlon.get(\"temp\")).getInfo()))\n"
   ]
  },
  {
   "cell_type": "code",
   "execution_count": 13,
   "id": "bdfffd7d",
   "metadata": {},
   "outputs": [],
   "source": [
    "latlon = ee.Image.pixelLonLat().addBands(ndti)\n",
    "latlon = latlon.reduceRegion(\n",
    "    reducer=ee.Reducer.toList(),\n",
    "    geometry=vectors,\n",
    "    scale=100)\n",
    "data_ndti = np.array((ee.Array(latlon.get(\"ndti\")).getInfo()))\n"
   ]
  },
  {
   "cell_type": "code",
   "execution_count": 14,
   "id": "8a40b581",
   "metadata": {},
   "outputs": [],
   "source": [
    "latlon = ee.Image.pixelLonLat().addBands(ndsi)\n",
    "latlon = latlon.reduceRegion(\n",
    "    reducer=ee.Reducer.toList(),\n",
    "    geometry=vectors,\n",
    "    scale=100)\n",
    "data_ndsi = np.array((ee.Array(latlon.get(\"ndsi\")).getInfo()))\n"
   ]
  },
  {
   "cell_type": "code",
   "execution_count": 15,
   "id": "99128270",
   "metadata": {},
   "outputs": [],
   "source": [
    "latlon = ee.Image.pixelLonLat().addBands(ndci)\n",
    "latlon = latlon.reduceRegion(\n",
    "    reducer=ee.Reducer.toList(),\n",
    "    geometry=vectors,\n",
    "    scale=100)\n",
    "data_ndci = np.array((ee.Array(latlon.get(\"ndci\")).getInfo()))\n"
   ]
  },
  {
   "cell_type": "code",
   "execution_count": 16,
   "id": "67eb8075",
   "metadata": {},
   "outputs": [],
   "source": [
    "latlon = ee.Image.pixelLonLat().addBands(dissolvedoxygen)\n",
    "\n",
    "latlon = latlon.reduceRegion(\n",
    "    reducer=ee.Reducer.toList(),\n",
    "    geometry=vectors,\n",
    "    scale=100,\n",
    "    tileScale=16)\n",
    "\n",
    "data_do = np.array((ee.Array(latlon.get(\"dissolvedoxygen\")).getInfo()))\n"
   ]
  },
  {
   "cell_type": "code",
   "execution_count": 17,
   "id": "df704929",
   "metadata": {},
   "outputs": [],
   "source": [
    "latlon = ee.Image.pixelLonLat().addBands(ph)\n",
    "\n",
    "latlon = latlon.reduceRegion(\n",
    "    reducer=ee.Reducer.toList(),\n",
    "    geometry=vectors,\n",
    "    scale=100)\n",
    "data_ph = np.array((ee.Array(latlon.get(\"ph\")).getInfo()))\n"
   ]
  },
  {
   "cell_type": "code",
   "execution_count": 18,
   "id": "186f3b2c",
   "metadata": {},
   "outputs": [],
   "source": [
    "latlon = ee.Image.pixelLonLat().addBands(nitrate)\n",
    "\n",
    "latlon = latlon.reduceRegion(\n",
    "    reducer=ee.Reducer.toList(),\n",
    "    geometry=vectors,\n",
    "    scale=100)\n",
    "data_nitrate = np.array((ee.Array(latlon.get(\"nitrate\")).getInfo()))\n"
   ]
  },
  {
   "cell_type": "code",
   "execution_count": 19,
   "id": "6cc69c0c",
   "metadata": {},
   "outputs": [],
   "source": [
    "latlon = ee.Image.pixelLonLat().addBands(phosphate)\n",
    "\n",
    "latlon = latlon.reduceRegion(\n",
    "    reducer=ee.Reducer.toList(),\n",
    "    geometry=vectors,\n",
    "    scale=100)\n",
    "data_phosphate = np.array((ee.Array(latlon.get(\"phosphate\")).getInfo()))\n"
   ]
  },
  {
   "cell_type": "code",
   "execution_count": 20,
   "id": "c907775e",
   "metadata": {},
   "outputs": [],
   "source": [
    "df = pd.concat([pd.DataFrame(data_do, columns=['Dissolved Oxygen']),\n",
    "                pd.DataFrame(data_ndsi, columns=['Salinity']),\n",
    "                pd.DataFrame(data_lst, columns=['Temperature']),\n",
    "                pd.DataFrame(data_ph, columns=['pH']),\n",
    "                pd.DataFrame(data_ndti, columns=['Turbidity']),\n",
    "                pd.DataFrame(data_dom_2021_Jan_August_test,\n",
    "                             columns=['Dissolved Organic Matter']),\n",
    "                pd.DataFrame(data_sm_2021_Jan_August_test,\n",
    "                             columns=['Suspended Matter']),\n",
    "                pd.DataFrame(data_nitrate,\n",
    "                             columns=['Nitrate']),    \n",
    "                pd.DataFrame(data_phosphate,\n",
    "                             columns=['Phosphate']),         \n",
    "                pd.DataFrame(data_ndci, columns=['Chlorophyll'])], axis=1, sort=False)\n",
    "\n"
   ]
  },
  {
   "cell_type": "code",
   "execution_count": 21,
   "id": "da860cde",
   "metadata": {},
   "outputs": [
    {
     "data": {
      "text/html": [
       "<div>\n",
       "<style scoped>\n",
       "    .dataframe tbody tr th:only-of-type {\n",
       "        vertical-align: middle;\n",
       "    }\n",
       "\n",
       "    .dataframe tbody tr th {\n",
       "        vertical-align: top;\n",
       "    }\n",
       "\n",
       "    .dataframe thead th {\n",
       "        text-align: right;\n",
       "    }\n",
       "</style>\n",
       "<table border=\"1\" class=\"dataframe\">\n",
       "  <thead>\n",
       "    <tr style=\"text-align: right;\">\n",
       "      <th></th>\n",
       "      <th>Dissolved Oxygen</th>\n",
       "      <th>Salinity</th>\n",
       "      <th>Temperature</th>\n",
       "      <th>pH</th>\n",
       "      <th>Turbidity</th>\n",
       "      <th>Dissolved Organic Matter</th>\n",
       "      <th>Suspended Matter</th>\n",
       "      <th>Nitrate</th>\n",
       "      <th>Phosphate</th>\n",
       "      <th>Chlorophyll</th>\n",
       "    </tr>\n",
       "  </thead>\n",
       "  <tbody>\n",
       "    <tr>\n",
       "      <th>0</th>\n",
       "      <td>7.645517</td>\n",
       "      <td>0.102493</td>\n",
       "      <td>20.795411</td>\n",
       "      <td>7.000775</td>\n",
       "      <td>-0.321561</td>\n",
       "      <td>0.505255</td>\n",
       "      <td>0.578780</td>\n",
       "      <td>-3.109832</td>\n",
       "      <td>0.002862</td>\n",
       "      <td>-0.002862</td>\n",
       "    </tr>\n",
       "    <tr>\n",
       "      <th>1</th>\n",
       "      <td>8.272600</td>\n",
       "      <td>0.114967</td>\n",
       "      <td>20.852093</td>\n",
       "      <td>6.991999</td>\n",
       "      <td>-0.321174</td>\n",
       "      <td>0.520327</td>\n",
       "      <td>0.581242</td>\n",
       "      <td>-3.113579</td>\n",
       "      <td>0.074181</td>\n",
       "      <td>-0.074181</td>\n",
       "    </tr>\n",
       "    <tr>\n",
       "      <th>2</th>\n",
       "      <td>5.129700</td>\n",
       "      <td>0.085208</td>\n",
       "      <td>20.826078</td>\n",
       "      <td>6.736983</td>\n",
       "      <td>-0.327032</td>\n",
       "      <td>0.506336</td>\n",
       "      <td>0.563338</td>\n",
       "      <td>-3.057808</td>\n",
       "      <td>0.004929</td>\n",
       "      <td>-0.004929</td>\n",
       "    </tr>\n",
       "    <tr>\n",
       "      <th>3</th>\n",
       "      <td>-1.173350</td>\n",
       "      <td>0.114869</td>\n",
       "      <td>20.800110</td>\n",
       "      <td>6.755765</td>\n",
       "      <td>-0.292665</td>\n",
       "      <td>0.507154</td>\n",
       "      <td>0.582198</td>\n",
       "      <td>-3.416870</td>\n",
       "      <td>0.058549</td>\n",
       "      <td>-0.058549</td>\n",
       "    </tr>\n",
       "    <tr>\n",
       "      <th>4</th>\n",
       "      <td>3.570700</td>\n",
       "      <td>0.093750</td>\n",
       "      <td>20.877077</td>\n",
       "      <td>7.930263</td>\n",
       "      <td>-0.113924</td>\n",
       "      <td>0.504001</td>\n",
       "      <td>0.564240</td>\n",
       "      <td>-8.777778</td>\n",
       "      <td>-0.026877</td>\n",
       "      <td>0.026877</td>\n",
       "    </tr>\n",
       "  </tbody>\n",
       "</table>\n",
       "</div>"
      ],
      "text/plain": [
       "   Dissolved Oxygen  Salinity  Temperature        pH  Turbidity  \\\n",
       "0          7.645517  0.102493    20.795411  7.000775  -0.321561   \n",
       "1          8.272600  0.114967    20.852093  6.991999  -0.321174   \n",
       "2          5.129700  0.085208    20.826078  6.736983  -0.327032   \n",
       "3         -1.173350  0.114869    20.800110  6.755765  -0.292665   \n",
       "4          3.570700  0.093750    20.877077  7.930263  -0.113924   \n",
       "\n",
       "   Dissolved Organic Matter  Suspended Matter   Nitrate  Phosphate  \\\n",
       "0                  0.505255          0.578780 -3.109832   0.002862   \n",
       "1                  0.520327          0.581242 -3.113579   0.074181   \n",
       "2                  0.506336          0.563338 -3.057808   0.004929   \n",
       "3                  0.507154          0.582198 -3.416870   0.058549   \n",
       "4                  0.504001          0.564240 -8.777778  -0.026877   \n",
       "\n",
       "   Chlorophyll  \n",
       "0    -0.002862  \n",
       "1    -0.074181  \n",
       "2    -0.004929  \n",
       "3    -0.058549  \n",
       "4     0.026877  "
      ]
     },
     "execution_count": 21,
     "metadata": {},
     "output_type": "execute_result"
    }
   ],
   "source": [
    "df.head()"
   ]
  },
  {
   "cell_type": "code",
   "execution_count": 23,
   "id": "31fb04f6",
   "metadata": {},
   "outputs": [],
   "source": [
    "df.to_csv(r\"C:\\Users\\KIRPAL SINGH\\Desktop\\Projects\\New folder/data.csv\")"
   ]
  },
  {
   "cell_type": "code",
   "execution_count": null,
   "id": "a12a982c",
   "metadata": {},
   "outputs": [],
   "source": []
  }
 ],
 "metadata": {
  "kernelspec": {
   "display_name": "Python 3 (ipykernel)",
   "language": "python",
   "name": "python3"
  },
  "language_info": {
   "codemirror_mode": {
    "name": "ipython",
    "version": 3
   },
   "file_extension": ".py",
   "mimetype": "text/x-python",
   "name": "python",
   "nbconvert_exporter": "python",
   "pygments_lexer": "ipython3",
   "version": "3.9.13"
  }
 },
 "nbformat": 4,
 "nbformat_minor": 5
}
